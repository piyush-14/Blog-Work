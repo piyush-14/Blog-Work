{
  "nbformat": 4,
  "nbformat_minor": 0,
  "metadata": {
    "colab": {
      "name": "my_02_fully_connected.ipynb",
      "provenance": [],
      "collapsed_sections": []
    },
    "kernelspec": {
      "name": "python3",
      "display_name": "Python 3"
    },
    "accelerator": "GPU"
  },
  "cells": [
    {
      "cell_type": "code",
      "metadata": {
        "id": "dhQF3KfPkdgP",
        "colab_type": "code",
        "colab": {
          "base_uri": "https://localhost:8080/",
          "height": 52
        },
        "outputId": "c34fd24f-bbb0-4673-c3e9-f7d28047ede5"
      },
      "source": [
        "%load_ext autoreload\n",
        "%autoreload 2\n",
        "\n",
        "%matplotlib inline"
      ],
      "execution_count": 5,
      "outputs": [
        {
          "output_type": "stream",
          "text": [
            "The autoreload extension is already loaded. To reload it, use:\n",
            "  %reload_ext autoreload\n"
          ],
          "name": "stdout"
        }
      ]
    },
    {
      "cell_type": "code",
      "metadata": {
        "id": "5My_5YkXvEdz",
        "colab_type": "code",
        "colab": {}
      },
      "source": [
        "import torch,pickle, gzip,math, matplotlib as mpl\n",
        "import matplotlib.pyplot as plt\n",
        "from torch import tensor\n",
        "from fastai import datasets\n",
        "from pathlib import Path"
      ],
      "execution_count": 0,
      "outputs": []
    },
    {
      "cell_type": "code",
      "metadata": {
        "id": "XpQBI8UKvONV",
        "colab_type": "code",
        "colab": {}
      },
      "source": [
        "mnist_url = 'http://deeplearning.net/data/mnist/mnist.pkl'\n",
        "def get_data():\n",
        "  path = datasets.download_data(mnist_url , ext = '.gz')\n",
        "  with gzip.open(path,'rb') as f:\n",
        "    ((x_train,y_train), (x_valid,y_valid),_) = pickle.load(f, encoding= 'latin-1')\n",
        "  return map(tensor, (x_train,y_train, x_valid,y_valid))\n",
        "\n",
        "def normalize(x,m,s): return (x-m)/s"
      ],
      "execution_count": 0,
      "outputs": []
    },
    {
      "cell_type": "code",
      "metadata": {
        "id": "v_ykEIeJ0zFs",
        "colab_type": "code",
        "outputId": "54328a14-2fc5-444c-dabc-7ea0560c0bd3",
        "colab": {
          "base_uri": "https://localhost:8080/",
          "height": 34
        }
      },
      "source": [
        "(x_train,y_train, x_valid,y_valid) = get_data()"
      ],
      "execution_count": 7,
      "outputs": [
        {
          "output_type": "stream",
          "text": [
            "Downloading http://deeplearning.net/data/mnist/mnist.pkl\n"
          ],
          "name": "stdout"
        },
        {
          "output_type": "display_data",
          "data": {
            "text/html": [
              ""
            ],
            "text/plain": [
              "<IPython.core.display.HTML object>"
            ]
          },
          "metadata": {
            "tags": []
          }
        }
      ]
    },
    {
      "cell_type": "code",
      "metadata": {
        "id": "iInpoisi011z",
        "colab_type": "code",
        "outputId": "d588da43-e113-41cd-f88b-114ba1bcb7cf",
        "colab": {
          "base_uri": "https://localhost:8080/",
          "height": 34
        }
      },
      "source": [
        "n,m,= x_train.shape ;n,m"
      ],
      "execution_count": 8,
      "outputs": [
        {
          "output_type": "execute_result",
          "data": {
            "text/plain": [
              "(50000, 784)"
            ]
          },
          "metadata": {
            "tags": []
          },
          "execution_count": 8
        }
      ]
    },
    {
      "cell_type": "code",
      "metadata": {
        "id": "nnoQlhzN30Hi",
        "colab_type": "code",
        "outputId": "7dcef9fb-68fe-4618-9f0e-5e6b30e072a6",
        "colab": {
          "base_uri": "https://localhost:8080/",
          "height": 34
        }
      },
      "source": [
        "train_mean = x_train.mean()\n",
        "train_std = x_train.std()\n",
        "train_mean, train_std"
      ],
      "execution_count": 9,
      "outputs": [
        {
          "output_type": "execute_result",
          "data": {
            "text/plain": [
              "(tensor(0.1304), tensor(0.3073))"
            ]
          },
          "metadata": {
            "tags": []
          },
          "execution_count": 9
        }
      ]
    },
    {
      "cell_type": "code",
      "metadata": {
        "id": "oOCeWbXG97lp",
        "colab_type": "code",
        "colab": {}
      },
      "source": [
        "def test_near_zero(a):  assert a.abs()<1e-03, f\"Near Zero: {a}\""
      ],
      "execution_count": 0,
      "outputs": []
    },
    {
      "cell_type": "code",
      "metadata": {
        "id": "eg4m84qq30XG",
        "colab_type": "code",
        "colab": {}
      },
      "source": [
        "# normalize the train and valid datasets\n",
        "# normalize the valid dataset with the mean and std obtained by the train mean and std\n",
        "x_train = normalize(x_train ,train_mean, train_std)\n",
        "\n",
        "# valid set\n",
        "x_valid = normalize(x_valid, train_mean, train_std)"
      ],
      "execution_count": 0,
      "outputs": []
    },
    {
      "cell_type": "code",
      "metadata": {
        "id": "ZYavTLyg6-qA",
        "colab_type": "code",
        "outputId": "d8f22df2-03e2-4054-b1a0-8b76cb54cd87",
        "colab": {
          "base_uri": "https://localhost:8080/",
          "height": 34
        }
      },
      "source": [
        "x_train.mean(), x_train.std()"
      ],
      "execution_count": 12,
      "outputs": [
        {
          "output_type": "execute_result",
          "data": {
            "text/plain": [
              "(tensor(0.0001), tensor(1.))"
            ]
          },
          "metadata": {
            "tags": []
          },
          "execution_count": 12
        }
      ]
    },
    {
      "cell_type": "code",
      "metadata": {
        "id": "lz5ZSipB30hU",
        "colab_type": "code",
        "outputId": "0934a72c-7abd-408c-fb44-43f99db46b55",
        "colab": {
          "base_uri": "https://localhost:8080/",
          "height": 34
        }
      },
      "source": [
        "x_valid.mean(), x_valid.std()"
      ],
      "execution_count": 13,
      "outputs": [
        {
          "output_type": "execute_result",
          "data": {
            "text/plain": [
              "(tensor(-0.0057), tensor(0.9924))"
            ]
          },
          "metadata": {
            "tags": []
          },
          "execution_count": 13
        }
      ]
    },
    {
      "cell_type": "code",
      "metadata": {
        "id": "qbJfR0CNLHgg",
        "colab_type": "code",
        "colab": {}
      },
      "source": [
        "# test_near_zero(x_valid.mean())\n",
        "# test_near_zero(1-x_valid.std())\n",
        "# x_valid.std().abs(),1+x_valid.mean().abs()"
      ],
      "execution_count": 0,
      "outputs": []
    },
    {
      "cell_type": "code",
      "metadata": {
        "id": "fxOYYG4W30qA",
        "colab_type": "code",
        "outputId": "93fc4231-35cd-440f-aa94-d6aa9fb3ce64",
        "colab": {
          "base_uri": "https://localhost:8080/",
          "height": 34
        }
      },
      "source": [
        "c = y_train.max()+1;c"
      ],
      "execution_count": 15,
      "outputs": [
        {
          "output_type": "execute_result",
          "data": {
            "text/plain": [
              "tensor(10)"
            ]
          },
          "metadata": {
            "tags": []
          },
          "execution_count": 15
        }
      ]
    },
    {
      "cell_type": "code",
      "metadata": {
        "id": "VvrRnX3A30nx",
        "colab_type": "code",
        "outputId": "29a6eae5-a613-434c-f135-c838c3756216",
        "colab": {
          "base_uri": "https://localhost:8080/",
          "height": 34
        }
      },
      "source": [
        "# hidden units\n",
        "nh = 50\n",
        "n,m,c"
      ],
      "execution_count": 16,
      "outputs": [
        {
          "output_type": "execute_result",
          "data": {
            "text/plain": [
              "(50000, 784, tensor(10))"
            ]
          },
          "metadata": {
            "tags": []
          },
          "execution_count": 16
        }
      ]
    },
    {
      "cell_type": "markdown",
      "metadata": {
        "id": "RnkcyssO2NS0",
        "colab_type": "text"
      },
      "source": [
        "Define the model"
      ]
    },
    {
      "cell_type": "code",
      "metadata": {
        "id": "i2Cljzii15wS",
        "colab_type": "code",
        "colab": {}
      },
      "source": [
        "# kaiming init simplified\n",
        "w1 = torch.randn(m,nh)/math.sqrt(m)\n",
        "b1 = torch.zeros(nh)\n",
        "w2 = torch.randn(nh,1)/math.sqrt(nh)\n",
        "b2 = torch.zeros(1)\n",
        "w1.mean(), w1.std() #should be zero and 1/math.sqrt(m)\n",
        "test_near_zero(w1.std()-1/math.sqrt(m))"
      ],
      "execution_count": 0,
      "outputs": []
    },
    {
      "cell_type": "code",
      "metadata": {
        "id": "ki5v0_wL2kSm",
        "colab_type": "code",
        "colab": {}
      },
      "source": [
        "# Linear Layer\n",
        "def lin(x,w,b): return x@w + b"
      ],
      "execution_count": 0,
      "outputs": []
    },
    {
      "cell_type": "code",
      "metadata": {
        "id": "0yIoD9J53M2G",
        "colab_type": "code",
        "colab": {}
      },
      "source": [
        "# Relu\n",
        "def relu(x):  return x.clamp_min(0.)"
      ],
      "execution_count": 0,
      "outputs": []
    },
    {
      "cell_type": "code",
      "metadata": {
        "id": "unvCKJRb3SoU",
        "colab_type": "code",
        "outputId": "d767a456-add7-4aba-db63-9266626b5153",
        "colab": {
          "base_uri": "https://localhost:8080/",
          "height": 184
        }
      },
      "source": [
        "t1 = lin(x_valid, w1,b1)\n",
        "t1.mean(), t1.std() # this is exactly what we had expected."
      ],
      "execution_count": 19,
      "outputs": [
        {
          "output_type": "error",
          "ename": "NameError",
          "evalue": "ignored",
          "traceback": [
            "\u001b[0;31m---------------------------------------------------------------------------\u001b[0m",
            "\u001b[0;31mNameError\u001b[0m                                 Traceback (most recent call last)",
            "\u001b[0;32m<ipython-input-19-ff7a4425a9ca>\u001b[0m in \u001b[0;36m<module>\u001b[0;34m()\u001b[0m\n\u001b[0;32m----> 1\u001b[0;31m \u001b[0mt1\u001b[0m \u001b[0;34m=\u001b[0m \u001b[0mlin\u001b[0m\u001b[0;34m(\u001b[0m\u001b[0mx_valid\u001b[0m\u001b[0;34m,\u001b[0m \u001b[0mw1\u001b[0m\u001b[0;34m,\u001b[0m\u001b[0mb1\u001b[0m\u001b[0;34m)\u001b[0m\u001b[0;34m\u001b[0m\u001b[0;34m\u001b[0m\u001b[0m\n\u001b[0m\u001b[1;32m      2\u001b[0m \u001b[0mt1\u001b[0m\u001b[0;34m.\u001b[0m\u001b[0mmean\u001b[0m\u001b[0;34m(\u001b[0m\u001b[0;34m)\u001b[0m\u001b[0;34m,\u001b[0m \u001b[0mt1\u001b[0m\u001b[0;34m.\u001b[0m\u001b[0mstd\u001b[0m\u001b[0;34m(\u001b[0m\u001b[0;34m)\u001b[0m \u001b[0;31m# this is exactly what we had expected.\u001b[0m\u001b[0;34m\u001b[0m\u001b[0;34m\u001b[0m\u001b[0m\n",
            "\u001b[0;31mNameError\u001b[0m: name 'w1' is not defined"
          ]
        }
      ]
    },
    {
      "cell_type": "code",
      "metadata": {
        "id": "zdF9vIXU6Xe_",
        "colab_type": "code",
        "outputId": "24185629-ec3d-45fd-dff0-89a36e720b6f",
        "colab": {
          "base_uri": "https://localhost:8080/",
          "height": 34
        }
      },
      "source": [
        "t1_relu = relu(t1)\n",
        "t1_relu.mean(), t1_relu.std() # and mean and the std is different because of the non-linearity of the Relu."
      ],
      "execution_count": 0,
      "outputs": [
        {
          "output_type": "execute_result",
          "data": {
            "text/plain": [
              "(tensor(0.4469), tensor(0.6575))"
            ]
          },
          "metadata": {
            "tags": []
          },
          "execution_count": 18
        }
      ]
    },
    {
      "cell_type": "markdown",
      "metadata": {
        "id": "oWcdXTCpuxNP",
        "colab_type": "text"
      },
      "source": [
        "**Improving the kaiming init**"
      ]
    },
    {
      "cell_type": "code",
      "metadata": {
        "id": "baKPzQX2uYCC",
        "colab_type": "code",
        "outputId": "d6d6d81e-953b-4980-fd81-19fcf36fa120",
        "colab": {
          "base_uri": "https://localhost:8080/",
          "height": 34
        }
      },
      "source": [
        "w1 = torch.randn(m,nh)*math.sqrt(2/m)\n",
        "b1 = torch.zeros(nh)\n",
        "w2 = torch.randn(nh,1)*math.sqrt(2/nh)\n",
        "b2 = torch.zeros(1)\n",
        "\n",
        "# Kaiming init considers the relu activation function and improve the std.\n",
        "# def Relu(x):  return x.clamp_min(0.) - 0.5\n",
        "\n",
        "t1 = relu(lin(x_valid, w1, b1))\n",
        "t1.mean(), t1.std()"
      ],
      "execution_count": 20,
      "outputs": [
        {
          "output_type": "execute_result",
          "data": {
            "text/plain": [
              "(tensor(0.5362), tensor(0.7973))"
            ]
          },
          "metadata": {
            "tags": []
          },
          "execution_count": 20
        }
      ]
    },
    {
      "cell_type": "code",
      "metadata": {
        "id": "vzOi8cA4v0RP",
        "colab_type": "code",
        "colab": {}
      },
      "source": [
        "from torch.nn import init"
      ],
      "execution_count": 0,
      "outputs": []
    },
    {
      "cell_type": "code",
      "metadata": {
        "id": "NEe-FWBMwvRI",
        "colab_type": "code",
        "colab": {}
      },
      "source": [
        "# w1 = torch.zeros(m,nh)\n",
        "# b1 = torch.zeros(nh)\n",
        "# w1 = init.kaiming_normal_(w1, mode = 'fan_out')"
      ],
      "execution_count": 0,
      "outputs": []
    },
    {
      "cell_type": "code",
      "metadata": {
        "id": "aVg58AJFwyRS",
        "colab_type": "code",
        "outputId": "db329b9a-65fa-4721-db79-0cd4c6c76bc1",
        "colab": {
          "base_uri": "https://localhost:8080/",
          "height": 34
        }
      },
      "source": [
        "w1.mean(), w1.std()"
      ],
      "execution_count": 22,
      "outputs": [
        {
          "output_type": "execute_result",
          "data": {
            "text/plain": [
              "(tensor(-0.0001), tensor(0.0507))"
            ]
          },
          "metadata": {
            "tags": []
          },
          "execution_count": 22
        }
      ]
    },
    {
      "cell_type": "code",
      "metadata": {
        "id": "rtBjk4vHNZv_",
        "colab_type": "code",
        "colab": {}
      },
      "source": [
        "import torch.nn"
      ],
      "execution_count": 0,
      "outputs": []
    },
    {
      "cell_type": "code",
      "metadata": {
        "id": "6TPjkbywNimM",
        "colab_type": "code",
        "colab": {}
      },
      "source": [
        "torch.nn.functional.linear??"
      ],
      "execution_count": 0,
      "outputs": []
    },
    {
      "cell_type": "code",
      "metadata": {
        "id": "BTnzUHYcNlmW",
        "colab_type": "code",
        "outputId": "1c4dce88-7ad2-427a-f1e9-be3ede4cfaef",
        "colab": {
          "base_uri": "https://localhost:8080/",
          "height": 34
        }
      },
      "source": [
        "torch.nn.Linear(m,nh).weight.shape"
      ],
      "execution_count": 0,
      "outputs": [
        {
          "output_type": "execute_result",
          "data": {
            "text/plain": [
              "torch.Size([50, 784])"
            ]
          },
          "metadata": {
            "tags": []
          },
          "execution_count": 48
        }
      ]
    },
    {
      "cell_type": "code",
      "metadata": {
        "id": "d-Rij_iQQEne",
        "colab_type": "code",
        "outputId": "fa39384a-eea1-456f-ae32-634f54cda7a6",
        "colab": {
          "base_uri": "https://localhost:8080/",
          "height": 34
        }
      },
      "source": [
        "w1.shape,b1.shape,x_train.shape"
      ],
      "execution_count": 24,
      "outputs": [
        {
          "output_type": "execute_result",
          "data": {
            "text/plain": [
              "(torch.Size([784, 50]), torch.Size([50]), torch.Size([50000, 784]))"
            ]
          },
          "metadata": {
            "tags": []
          },
          "execution_count": 24
        }
      ]
    },
    {
      "cell_type": "code",
      "metadata": {
        "id": "GrhObJ3YroQS",
        "colab_type": "code",
        "outputId": "0a5c1235-c75f-4143-99ff-de7442ea4ada",
        "colab": {
          "base_uri": "https://localhost:8080/",
          "height": 34
        }
      },
      "source": [
        "t1 = lin(x_valid,w1,b1)\n",
        "t1.shape"
      ],
      "execution_count": 25,
      "outputs": [
        {
          "output_type": "execute_result",
          "data": {
            "text/plain": [
              "torch.Size([10000, 50])"
            ]
          },
          "metadata": {
            "tags": []
          },
          "execution_count": 25
        }
      ]
    },
    {
      "cell_type": "code",
      "metadata": {
        "id": "BHsP4vSJPRHA",
        "colab_type": "code",
        "colab": {}
      },
      "source": [
        "def model(xb):\n",
        "  l1 = lin(xb,w1,b1)\n",
        "  l2 = relu(l1)\n",
        "  out = lin(l2,w2,b2)\n",
        "  return out"
      ],
      "execution_count": 0,
      "outputs": []
    },
    {
      "cell_type": "code",
      "metadata": {
        "id": "vIPOVyQPQXTg",
        "colab_type": "code",
        "colab": {}
      },
      "source": [
        "preds = model(x_valid)"
      ],
      "execution_count": 0,
      "outputs": []
    },
    {
      "cell_type": "code",
      "metadata": {
        "id": "xaxfffRss1kE",
        "colab_type": "code",
        "colab": {}
      },
      "source": [
        "def mse(out, target):\n",
        "  return (out.squeeze(-1) - target).pow(2).mean()"
      ],
      "execution_count": 0,
      "outputs": []
    },
    {
      "cell_type": "code",
      "metadata": {
        "id": "mV3oFnp7tGFD",
        "colab_type": "code",
        "colab": {
          "base_uri": "https://localhost:8080/",
          "height": 34
        },
        "outputId": "2034bc68-bd50-4b3b-82d9-a9e08f38723b"
      },
      "source": [
        "loss = mse(preds,y_valid);loss"
      ],
      "execution_count": 32,
      "outputs": [
        {
          "output_type": "execute_result",
          "data": {
            "text/plain": [
              "tensor(25.6047)"
            ]
          },
          "metadata": {
            "tags": []
          },
          "execution_count": 32
        }
      ]
    },
    {
      "cell_type": "code",
      "metadata": {
        "id": "1W0Sq4i_QoiC",
        "colab_type": "code",
        "outputId": "ce05e194-2d8f-4be0-a08b-79e75ccb63cf",
        "colab": {
          "base_uri": "https://localhost:8080/",
          "height": 34
        }
      },
      "source": [
        "preds.shape, y_valid.shape"
      ],
      "execution_count": 28,
      "outputs": [
        {
          "output_type": "execute_result",
          "data": {
            "text/plain": [
              "(torch.Size([10000, 1]), torch.Size([10000]))"
            ]
          },
          "metadata": {
            "tags": []
          },
          "execution_count": 28
        }
      ]
    },
    {
      "cell_type": "code",
      "metadata": {
        "id": "ojI5gFD6dihe",
        "colab_type": "code",
        "colab": {
          "base_uri": "https://localhost:8080/",
          "height": 34
        },
        "outputId": "aeea30e2-b80a-49f0-ff40-6678110e1a29"
      },
      "source": [
        "y_valid.unsqueeze(1).shape[0]"
      ],
      "execution_count": 37,
      "outputs": [
        {
          "output_type": "execute_result",
          "data": {
            "text/plain": [
              "10000"
            ]
          },
          "metadata": {
            "tags": []
          },
          "execution_count": 37
        }
      ]
    },
    {
      "cell_type": "markdown",
      "metadata": {
        "id": "3bVKhASdXqDP",
        "colab_type": "text"
      },
      "source": [
        "Gradients and Backward Pass"
      ]
    },
    {
      "cell_type": "code",
      "metadata": {
        "id": "61PZI85KtNSc",
        "colab_type": "code",
        "colab": {}
      },
      "source": [
        "def mse_grad(out,tar):\n",
        "  out.g = 2. * (out - tar.unsqueeze(1))/out.shape[0]"
      ],
      "execution_count": 0,
      "outputs": []
    },
    {
      "cell_type": "code",
      "metadata": {
        "id": "Q16_RPTveBuj",
        "colab_type": "code",
        "colab": {}
      },
      "source": [
        "def relu_grad(inp,out):\n",
        "  inp.g = (inp>0).float() * out.g"
      ],
      "execution_count": 0,
      "outputs": []
    },
    {
      "cell_type": "code",
      "metadata": {
        "id": "iG50Dj8ieOqJ",
        "colab_type": "code",
        "colab": {}
      },
      "source": [
        "def lin_grad(inp, out, w, b):\n",
        "  inp.g = out.g @ w.t()\n",
        "  w.g = (inp * out.g).sum()\n",
        "  b.g = out.g.sum()"
      ],
      "execution_count": 0,
      "outputs": []
    },
    {
      "cell_type": "code",
      "metadata": {
        "id": "OpykgO6-iOoV",
        "colab_type": "code",
        "colab": {}
      },
      "source": [
        "t1 = lin(x_valid[:10], w1, b1)\n",
        "t2 = relu(t1)"
      ],
      "execution_count": 0,
      "outputs": []
    },
    {
      "cell_type": "code",
      "metadata": {
        "id": "oye7nr84jPhb",
        "colab_type": "code",
        "colab": {}
      },
      "source": [
        ""
      ],
      "execution_count": 0,
      "outputs": []
    }
  ]
}